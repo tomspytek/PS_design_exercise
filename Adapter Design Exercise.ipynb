{
 "cells": [
  {
   "cell_type": "markdown",
   "id": "7caeb7f7",
   "metadata": {},
   "source": [
    "# Grass to Sand\n",
    "## Converting a Portable Grass Volleyball Net to a Beach Volleyball Net: A Design Exercise"
   ]
  },
  {
   "cell_type": "markdown",
   "id": "40f7143c",
   "metadata": {},
   "source": [
    "# I. Introduction\n",
    "\n",
    "As an avid beach volleyball player, I place high value on my group always having access to a beach court. Thus I bought us a Park&Sun portable net system to ensure that we always had access to a net.  However, what I did not realize was that despite the P&S website advertising strongly suggesting that their products are beach nets, their nets are, in fact,   grass systems.  The adapter on the base of their volleyball net poles only work on grass, not on sand (as I discovered first hand).  Park&Sun *does* sell a sand adapter kit with special pole base plates for a hefty $60.  However, having access to a 3D printer, I set about making my own modification kit.  This blog will describe the design process I followed while making my kit.    \n",
    "\n",
    "Some notes before we begin: I don't have many pictures of the net setup.  This is because in addition to being my volleyball group's head engineer, I am also our organizer.  So while I would like to take time to take pictures of various systems I build, I am often preoccupied with starting our sessions, answering questions about technique or strategy, and otherwise ensuring that our sessions run smoothly.  As a result, here I lean *heavily* on CAD renders for images of design iterations.  Also, this project was designed in FreeCAD.  While I know SolidWorks, it is an expensive application. Since I obviously completed this on my own time at home, using a free option like FreeCAD was the way to go.    \n",
    "    "
   ]
  },
  {
   "cell_type": "markdown",
   "id": "39082603",
   "metadata": {},
   "source": [
    "![title](Images/process.png) \n",
    "<center> The grass adapter (pictured left) and the sand adapter (pictured right). </center>"
   ]
  },
  {
   "cell_type": "markdown",
   "id": "0c965aa6",
   "metadata": {},
   "source": [
    "# II. Requirements\n",
    "\n",
    "As I suggest in the intro, minimizing cost is the primary objective of this build.  Yet there were other engineering requirements I had identified: \n",
    "\n",
    "* Cost (as low as possible, ideally <$20 for a set of 2)\n",
    "* Compressive strength (needs to take stresses up to ~2300psi)\n",
    "* Temperature resistance (resists melting in temperatures up to around 120F)\n",
    "* UV resistance (doesn't degrade heavily when exposed to UV light)\n",
    "\n",
    "Later on in the design process, I identified a potential safety hazard, thus the final requirement:\n",
    "\n",
    "* Safety (no pointy features)\n",
    "\n",
    "## Cost \n",
    "\n",
    "The cost requirement is fairly straightfoward: the total material cost should be less than $20 for the whole kit.  This doesn't include labor costs, since the knowledge and satisfaction earned through making my own far outweigh any discount gained from buying a premade solution. This requirement also offers guidance on what material to work with.  Since I'm planning on printing a plastic part, I'm thinking of starting with a cheaper material.  \n",
    "\n",
    "## Compressive Strength\n",
    "\n",
    "Anything I make has to stand up to the stresses involved in holding up a net.  A picture of a net would help illustrate what stresses are involved.  Like I mentioned above, I don't have any good pictures of my system set up.  Thus we'll use a picture from the manufacturer's website: "
   ]
  },
  {
   "cell_type": "markdown",
   "id": "8ca0a597",
   "metadata": {},
   "source": [
    "<div>\n",
    "<img src=\"Images/ps_net_label.png\" width=\"500\"/>\n",
    "</div>\n",
    "<center> credit: https://www.parksun.com/Net-Systems/Volleyball/spectrum-classic-volleyball-set.php# </center>"
   ]
  },
  {
   "cell_type": "markdown",
   "id": "808bf8d1",
   "metadata": {},
   "source": [
    "In this picture you can see that the net has two lines (these are called guy lines) extanding from the each of the top corners to the sides of the nets.  Tensioning these lines allows you to hold up the net and set it up anywhere.  The poles will transfer stress from these lines into whatever adapter plate I designm for the bottom of the pole. To estimate the compressive strength our part will need to have, we will need the cross-sectional area of the tube:   "
   ]
  },
  {
   "cell_type": "markdown",
   "id": "8e12b6dc",
   "metadata": {},
   "source": [
    "<center> r = inner radius of tube \n",
    "<br> R = outer radius of tube \n",
    "<br> $A = \\pi (R^2 - r^2)$ </center> "
   ]
  },
  {
   "cell_type": "markdown",
   "id": "dda1c793",
   "metadata": {},
   "source": [
    "To estimate the vertical force being exerted at the base of the pole, we need to first estimate the tension in the guy lines. We bear in mind that the lines form a ~55 degree angle with the ground and are tightened with handles (see picture above).  Typically people use their bodyweight to do this.  To simplify the problem and give myself a larger margin for error, I assume the guy lines extend straight down and that the full weight W of the person tightening the line is being used to tension to the line.  Thus the total tension in the lines is 2W (because each pole as two guy lines, and the total force being transferred to the pole is equal to the total tension in the guy lines):"
   ]
  },
  {
   "cell_type": "markdown",
   "id": "1af98b58",
   "metadata": {},
   "source": [
    " <center> $F = 2T = 2W $ </center> "
   ]
  },
  {
   "cell_type": "markdown",
   "id": "ea9d23a7",
   "metadata": {},
   "source": [
    "Thus we can find the total compressive stress $\\sigma$ being exerted at the base of the pole: "
   ]
  },
  {
   "cell_type": "markdown",
   "id": "186eae7d",
   "metadata": {},
   "source": [
    "<center> $\\sigma = \\frac{F}{A} $</center> \n"
   ]
  },
  {
   "cell_type": "markdown",
   "id": "12bb0cb1",
   "metadata": {},
   "source": [
    "Assuming W<=300, r = 0.83in, R = 0.88in, we can calculate the stress:"
   ]
  },
  {
   "cell_type": "code",
   "execution_count": 1,
   "id": "d583d7e2",
   "metadata": {},
   "outputs": [
    {
     "name": "stdout",
     "output_type": "stream",
     "text": [
      "Total compressive stress range: 2233.753587254671 lbs/in^2\n"
     ]
    }
   ],
   "source": [
    "import math\n",
    "\n",
    "r = 0.83 #inner radius of the pole in inches\n",
    "R = 0.88 #outer radius of the pole in inches\n",
    "\n",
    "#calculate the area\n",
    "A = math.pi*(0.88**2 - .83**2) \n",
    "\n",
    "W=300 #presumed upper weight bound in lbs\n",
    "F = 2*W\n",
    "\n",
    "print(f\"Total compressive stress range: {F/A} lbs/in^2\")"
   ]
  },
  {
   "cell_type": "markdown",
   "id": "4378fc2e",
   "metadata": {},
   "source": [
    "Thus our compressive strength requirement is 2300 psi.  \n",
    "\n",
    "I would have liked to verify this with a tension measurement, but a tension meter was beyond my budget at the time.  As we'll see, my estimate works out in the end. "
   ]
  },
  {
   "cell_type": "markdown",
   "id": "2bd417f9",
   "metadata": {},
   "source": [
    "## Temperature Resistance\n",
    "The sand gets *hot* in the summer, so if we are using plastic, the risk of our base plate melting is significant.  Our solution needs to include some form of resistance to elevated temperatures.  I haven't measured the sand, but based on how hot it feels when we play at high noon on days with air temperatures over 100F, I estimate 120F to be a reasonable estimate for our max temperature.  I'm thinking a temperature-resistance material or some form of cheap insulation is the way to go. "
   ]
  },
  {
   "cell_type": "markdown",
   "id": "4d2f2fae",
   "metadata": {},
   "source": [
    "## UV Resistance\n",
    "\n",
    "Having worked in the weathering industry, I have a decent sense of how materials will degrade in harsh summer sunlight.  Plastic in particular can become brittle and break.  My solution needs to include some kind of UV resistance.  Again, I have access to a more expensive UV-resistant material, but a cheaper, less-resistant material coupled with a paint job or other form of shielding could work.   "
   ]
  },
  {
   "cell_type": "markdown",
   "id": "991402d5",
   "metadata": {},
   "source": [
    "## Safety\n",
    "\n",
    "Knowing how hard we play, I wouldn't want someone accidentally getting cut or otherwise injured by the part while going for a play.  This means the edges of the part should have fillets.  After a few design iterations, I also realize that I should avoid square designs as well--no pointy corners, only curves. This is way you will see revisions where the only change is adding fillets or moving from a square design to a circular design.   "
   ]
  },
  {
   "cell_type": "markdown",
   "id": "92b8a497",
   "metadata": {},
   "source": [
    "# III. Design\n",
    "\n",
    "In all, this part went through six iterations (Revs 0-5):  "
   ]
  },
  {
   "cell_type": "markdown",
   "id": "1c070f7c",
   "metadata": {},
   "source": [
    "<div>\n",
    "<img src=\"Images/all_revisions.png\" />\n",
    "</div>\n",
    "<center> From left to right, Revisions 0-5. <center/>"
   ]
  },
  {
   "cell_type": "markdown",
   "id": "0035b610",
   "metadata": {},
   "source": [
    "Each iteration followed the following steps:\n",
    "\n",
    "* Sketching the design w/ dimensions\n",
    "* Translating the sketch into a CAD model (in FreeCAD)\n",
    "* Printing a cheap (low infill, high print speed) PLA model \n",
    "* Evaluating prototype by checking its fit on the pole,  taking it to the beach, observing failure modes, etc. \n",
    "* Using my findings from this evaluation to make modifications to the design and start the cycle over.  \n",
    "\n",
    "The iterations are divided into two general groups: Revs 0-2 involve a design that fits *around* the pole, while Revs 3-5 feature a design that plugs *into* the pole.  I made this initial design decision because my attempts to remove the grass adapter plug meet extreme resistance and I therefore thought that the  adapter plug was *part* of the pole assembly and could not be detached.  Hence, my initial designs attempted to bypass the odd geometry of the plug and use a solution that just fit around it.  Later on, after noticing that the plug positions had obviously shifted, I made a more earnest and ultimately successful attempt to remove them.  This opened the door to a more convenient (and resilient) plug design.  The plug sits more snugly in the pole and sand can't easily pile up between the base of the pole and the top of the adapter plate.   "
   ]
  },
  {
   "cell_type": "markdown",
   "id": "04bedfd9",
   "metadata": {},
   "source": [
    "Anyway, here is an example of the third iteration:\n",
    "<div>\n",
    "<img src=\"Images/iteration_3.png\" />\n",
    "</div>\n"
   ]
  },
  {
   "cell_type": "markdown",
   "id": "8ecadaea",
   "metadata": {},
   "source": [
    "My sketching skills are admittedly abysmal, but the process does help me think through the design and the dimensions of the part.  And here we see two different sketches.  This is because after some initial testing with Revisions 0-2, which all had flat bottoms, I was worried that the base might slip on the sand, causing the pole to tilt. \n",
    "\n",
    "Bear in mind, because of difficulties with the wrap-around design, I hadn't yet attached one of my prototype adapters to the poles.  My testing consisted of pressing the part into the sand and applying a lateral force to gauge the resistance.   \n",
    "\n",
    "Anyway, I wasn't confident in the flat bottom design, so I considered adding vertical fins to the bottom (see first sketch).  This way, there would be some resistance if the pole tried to shift laterally in the sand.  This initial design wasn't practical, since it would be very difficult to print on a 3D printer.  Generally speaking, printers cannot print large overhangs (faces that extend horizontally out from the part).  You can add support material to hold up the print as it prints, but that adds cost and generates waste.  I wanted a design that would not need supports.  Thus the fin design was out.  \n",
    "\n",
    "My solution was to use a tapered design to decrease the area of overhanging material.  This way the part still presented a large vertical area to resist lateral movements while still being printable.  You can see this reflected in the CAD model and printed prototypes.  \n",
    "\n",
    "I later took these prototypes to the beach.  Due to some confusion about the dimensions, these printed with the wrong plug diameter, so they did not fit the poles.  But I was able to evaluate their behavior in the sand and found that they did resist lateral movement better than the flat bottom versions.  "
   ]
  },
  {
   "cell_type": "markdown",
   "id": "4358850d",
   "metadata": {},
   "source": [
    "## Final Design Iteration\n",
    "\n",
    "The final design obviously doesn't use fins:"
   ]
  },
  {
   "cell_type": "markdown",
   "id": "44b32740",
   "metadata": {},
   "source": [
    "<div>\n",
    "<img src=\"Images/rev_5_CAD.png\" />\n",
    "</div>\n",
    "<center> Revision 5: The Final Revision (No Fins) <center/>"
   ]
  },
  {
   "cell_type": "markdown",
   "id": "5be86017",
   "metadata": {},
   "source": [
    "\n",
    "\n"
   ]
  },
  {
   "cell_type": "markdown",
   "id": "69d27340",
   "metadata": {},
   "source": [
    "This is because I found myself under a time crunch after Revision 3.  I needed a working adapter in two days, and after printing the PLA prototypes with the wrong plug diameter, I knew that I could not print a corrected version in time.  I tried sanding down the diameter to no avail.  In desperation, I played around with the print settings and looked at removing the fins and just printing the plate and plug portions of the part.  It may slip, but at least we would be able to try and play volleyball.  I printed the PETG versions, stuck them on my net...and found that they worked perfectly.  This was the first time I was able to fully set up the net with the plates correctly attached.  I found that, when set up, the net generates a *lot* more force than I can when pressing down on the plate, and the resulting normal force generates enough friction to resist shifting in the sand.  It will still shift a little, maybe a couple of centimeters throughout the day, but I'm generally making adjustments to the net throughout the day anyway as people and volleyballs collide with the net.  Thus, by pure chance, Revision 4 came to be. \n",
    "\n",
    "Another finding from this live test was that the part was always buried under sand, whether by chance during the setup process or by the wind throughout the day.  This addressed the temperature and UV exposure requirements, since the sand is *considerably* cooler an inch or two beneath the surface and UV light does not penetrate that deep.    \n",
    "\n",
    "The final revision, Rev 5, was a small evolution of Rev 4.  While the plate made the pole laterally stable, I noticed that the pole still sank a little throughout the day. It stood to reason that increasing the area of the plate would fix this problem.  Thus, I increased the diameter to the maximum I could print, stuck it on my net, and found that the net sunk less as a result.  And now, two years later, the original parts are still holding up.    \n",
    "\n",
    "Finally, the cost per plate was about \\\\$5, bringing the total cost for the pair to \\\\$10.  This was well below my \\\\$20 target. "
   ]
  },
  {
   "cell_type": "markdown",
   "id": "8def9902",
   "metadata": {},
   "source": [
    "## Material\n",
    "\n",
    "When designing this adapter, my material options were PLA and PETG.  For those unfamiliar with 3D printing, PLA is the go-to printing material.  It is exceptionally easy to print with.  And even though it is one of the weakest printing materials, doesn't yield printed parts with good dimensional accuracy, and has poor temperature and UV resistance, most prints are aesthetic in nature and don't require robust mechanical performance.  Also, at the time I was designing this, PLA cost about 20% less per kilo than PETG, my other option.  PETG's higher cost is not without reason, however.  In contrast with PLA, PETG is far stronger, more temperature resistant, more UV resistant, and has excellent dimensional accuracy.  For any mechanical parts I design, PETG is my metarial of choice.  \n",
    "\n",
    "Both now and when I was designing these parts, some hard numbers for the compressive strength of PLA and PETG would have been useful.  Unfortunately, this information is hard to come by.  Manufacturers don't list it on  their websites, and independent measurements are hard to come by.  Part of the problem is that the mechanical properties of printed parts are dependent on much more than the material.  *How* you print also matters (what speed, what % infill, etc.) as well as water content of the filament, the color of the filament (different additives mean that different colors of PLA have wildly different mechanical properties), and the manufacturer (e.g. all else being the same, the same color PLA from three different manufacturers will have different mechanical properties).  While I could measure these properties myself, building the kind of setup to do it is expensive and time-consuming.  Time and budget permitting, I would like to look into it at some point and get some hard numbers.  \n",
    "\n",
    "For this project, though, trial, error, and experience drove my decisions. And after trial and error, PLA ended up being too weak.  Prototype parts in the first few design iterations were crushed when subjected to even a small load.  On the other hand, PETG performed phenomenally.  At 50% infill and four perimters, it withstood the compressive forces involved in setting up the net without any problem.  To this day, after hundreds of loading cycles with varying amounts of force used to tighten the guy lines, the original PETG parts are holding up.  While PETG is clearly the better mechancial material, using it for prototype parts to check dimensions or see how a final print will look is not cost effective.  It generally makes sense to print a cheaper PLA prototype with less material to save on cost.  So, each material has its function in mechancial build.            \n",
    "\n",
    " "
   ]
  },
  {
   "cell_type": "markdown",
   "id": "ee17a147",
   "metadata": {},
   "source": [
    "# IV. Fabrication\n",
    "\n",
    "While simply modelling the part in CAD and printing it out works for prototypes intended mostly to verify dimensions, more care is necessary for printing the final, working part.  From experience, I had an idea of what print settings were necessary for mechanical performance.  Here are the major settings:\n",
    "\n",
    "* Print Speed: 50%\n",
    "* Infill: 50% Grid Pattern\n",
    "* Perimeters: 4\n",
    "\n",
    "The lower print speed helps ensure good layer adhesion.  The printer operates by melting plastic filament and laying it in...layers.  The longer print time means the material is heated more as it is being laid and leads to better bonding between layers and a more homogeneous, solid print.  \n",
    "\n",
    "Most aesthetic prints have ~15% infill with any number of interesting infill patterns (which are interesting to watch as the part prints).  For functional parts, such as these adapters, 45% is the general minimum infill value.  As best I can tell, this is determined by trial and error and varies from material to material.  To be cautious, I went with 50% infill.  I also elected to use a grid pattern:   "
   ]
  },
  {
   "cell_type": "markdown",
   "id": "5980095d",
   "metadata": {},
   "source": [
    "<div>\n",
    "<img src=\"Images/infill_example.png\" />\n",
    "</div>\n",
    "<center> Grid pattern infill (dark red) and perimeters (yellow and orange). <center/>"
   ]
  },
  {
   "cell_type": "markdown",
   "id": "4fd96899",
   "metadata": {},
   "source": [
    "I chose the grid pattern because the part is going to experience mostly compressive forces.  The grid pattern is useful because it deposits material in vertical columns ideal for handling compressive loads.  Other infill patterns will rotate their print direction as you travel along the vertical axis, leading to little internal overhangs that are not ideal for accepting compressive loads.  "
   ]
  },
  {
   "cell_type": "markdown",
   "id": "5f756bab",
   "metadata": {},
   "source": [
    "I also increased the number of perimeters from 3 to 4.  Within a given layer of the part, the perimeters are the outermost component and, unlike infill, are one continuous melted line of material.  They typically form the outer shell of a part and provide most of the part's strength.  This is because the stresses placed on a part are maximized at its surface.  In fact, more than infill or print speed, the number of perimeters is the primary factor in determining a part's strength. Again, not having any hard numbers, quantifying how much stronger a part is with extra perimeters is difficult.  But, given that the part still holds up now, I'd rather have too many perimeters than too few.  For optimization purposes, knowing exactly how many perimeters are necessary to achieve the desired strength would be useful.  But that is a problem for another day.       "
   ]
  },
  {
   "cell_type": "markdown",
   "id": "584d089e",
   "metadata": {},
   "source": [
    "Beyond adding extra perimeters to the whole part, I also added extra perimeters to a the region around the base of the plug.  My thinking was that, since the pole rests directly on this annulus, and the compressive stress will be greatest here, I wanted this region to be as strong as possible.  Revision 2 PLA parts I tested also failed in this region when subjected to compression (using a large tube and trying to crush the PLA part). This all meant using perimeters in this region.  Fortunately, the program I use to generate print files allows you to use custom geometry to add special paramters to specific regions of the part.  You can see in the images below the effect of adding the green cylinder with programmed added perimeters:"
   ]
  },
  {
   "cell_type": "markdown",
   "id": "c8fd8dde",
   "metadata": {},
   "source": [
    "<div>\n",
    "<img src=\"Images/add_perimeter.png\" />\n",
    "</div>\n",
    "<center> Left: Adding parameter modification geometry (green cylinder). Right: extra perimeters around base of plug. <center/>"
   ]
  },
  {
   "cell_type": "markdown",
   "id": "7be2c206",
   "metadata": {},
   "source": [
    "<div>\n",
    "<img src=\"Images/no_perimeter.png\" />\n",
    "</div>\n",
    "<center> No parameter modification and no extra perimeters in final print. <center/>"
   ]
  },
  {
   "cell_type": "markdown",
   "id": "06510dfa",
   "metadata": {},
   "source": [
    "To clarify, the perimeters are added to every layer of the print contained in the parameter geometry.  The perimeters, therefore, form a very strong solid column extending from the bottom face of the plate to the top face (shown in the picture).  This is most likely why the parts have not failed, since they were reinforced only in the region where the stress was greatest."
   ]
  },
  {
   "cell_type": "markdown",
   "id": "ca45b700",
   "metadata": {},
   "source": [
    "# V. Ideas for Improvement"
   ]
  },
  {
   "cell_type": "markdown",
   "id": "e9057eb8",
   "metadata": {},
   "source": [
    "One idea was to create a version with a center hole for easier removal.  I found that very fine sand will work its way between the base and the pole and make it very difficult to remove the base.  Not everyone encounters this problem, however.  I provided the same mods to a friend with the same net and he hasn't had any problems removing the base plate.  His preferred beach has far coarser sand than mine, so my guess is that the larger grains can't work their way into the pipe.  \n",
    "\n",
    "Still, while this isn't much of a problem, since I rarely if ever need to remove the base plate, it would be useful to have a more convenient removal mechanism.  Two ideas I had were to reduce the height of the plug portion of the base plate to reduce the amount of space sand can occupy.  The plug doesn't need to be as tall as it is anyway.  In addition to this, I thought about adding some flexible tabs.  So even if sand does get in the system, the flexible tabs should give me some leeway to work the plug out.  My second idea was to add a center hole to the base plate.  I might drop a rope through this hole to offer better leverage, but regardless of that having access to the center axis of the base plate would make removal far easier.  This obviously opens up the possibility of getting even *more* sand in the pole.  Yet it's just an idea at this point and would need to be tested.  I've included a CAD drawing of all of these possible mods:"
   ]
  },
  {
   "cell_type": "markdown",
   "id": "6984b7f7",
   "metadata": {},
   "source": [
    "<div>\n",
    "<img src=\"Images\\rev_6_CAD.png\" width=\"500\"/>\n",
    "</div>"
   ]
  },
  {
   "cell_type": "markdown",
   "id": "6621c7f5",
   "metadata": {},
   "source": [
    "# VI. Conclusion"
   ]
  },
  {
   "cell_type": "markdown",
   "id": "a6212f99",
   "metadata": {},
   "source": [
    "I'm not sure if it comes out in my description, but I really enjoyed this project.  Using my mechanical knowledge to solve a volleyball problem and create something that actually *worked* and continues to work is incredible.  And the process of imagining a part, thinking it through, designing it, bringing it to life, and testing it is really rewarding.  I learned a lot from the successful decisions I made.  I also learned a lot from the unsuccessful ones as well.  I also emerged with inspiration for how I could improve the project even more or apply the lessons I learned to future projects.  That, perhaps, is an easily overlooked benefit of this kind of project:  the reward isn't just the thing you've made now, it's the things this experience will allow you to make in the future.   \n",
    "\n",
    "Anyway, the part is made, the net is ready.  Time for some volleyball. "
   ]
  },
  {
   "cell_type": "code",
   "execution_count": null,
   "id": "c8e91df6",
   "metadata": {},
   "outputs": [],
   "source": []
  }
 ],
 "metadata": {
  "kernelspec": {
   "display_name": "Python 3 (ipykernel)",
   "language": "python",
   "name": "python3"
  },
  "language_info": {
   "codemirror_mode": {
    "name": "ipython",
    "version": 3
   },
   "file_extension": ".py",
   "mimetype": "text/x-python",
   "name": "python",
   "nbconvert_exporter": "python",
   "pygments_lexer": "ipython3",
   "version": "3.7.11"
  }
 },
 "nbformat": 4,
 "nbformat_minor": 5
}
